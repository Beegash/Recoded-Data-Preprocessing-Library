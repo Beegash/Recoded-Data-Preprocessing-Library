{
 "cells": [
  {
   "cell_type": "markdown",
   "metadata": {},
   "source": [
    "### Read From Csv\n"
   ]
  },
  {
   "cell_type": "code",
   "execution_count": 143,
   "metadata": {},
   "outputs": [],
   "source": [
    "import pandas as pd\n",
    "\n",
    "file_path = 'datasett.csv'\n",
    "df = pd.read_csv(file_path)"
   ]
  },
  {
   "cell_type": "markdown",
   "metadata": {},
   "source": [
    "### Text Cleaning\n"
   ]
  },
  {
   "cell_type": "code",
   "execution_count": 144,
   "metadata": {},
   "outputs": [
    {
     "name": "stdout",
     "output_type": "stream",
     "text": [
      "                                             Summary  \\\n",
      "0  A group of college students get more than they...   \n",
      "1  A documentary that sheds light on the devastat...   \n",
      "2  A lost civilization is rediscovered deep withi...   \n",
      "3  A young inventor builds a time machine and emb...   \n",
      "4  A young inventor builds a time machine and emb...   \n",
      "\n",
      "                                     Cleaned_Summary  \n",
      "0  group college student get bargained spend week...  \n",
      "1  documentary shed light devastating effect clim...  \n",
      "2  lost civilization rediscovered deep within ama...  \n",
      "3  young inventor build time machine embarks jour...  \n",
      "4  young inventor build time machine embarks jour...  \n"
     ]
    }
   ],
   "source": [
    "from rdatapp import TextCleaner\n",
    "\n",
    "# Create an instance of the TextCleaner class\n",
    "text_cleaner = TextCleaner()\n",
    "df['Cleaned_Summary'] = df['Summary'].apply(text_cleaner.clean_text)\n",
    "print(df[['Summary', 'Cleaned_Summary']].head())\n"
   ]
  },
  {
   "cell_type": "markdown",
   "metadata": {},
   "source": [
    "### Missing Value Handling"
   ]
  },
  {
   "cell_type": "code",
   "execution_count": 145,
   "metadata": {},
   "outputs": [
    {
     "name": "stdout",
     "output_type": "stream",
     "text": [
      "0    1.035408e+07\n",
      "1    5.722105e+06\n",
      "2    5.601372e+07\n",
      "3    4.422451e+06\n",
      "4    1.163290e+08\n",
      "Name: Budget in USD, dtype: float64\n",
      "   Shooting Location  Budget in USD\n",
      "40          New York   5.441482e+07\n",
      "41            Sydney   8.058753e+07\n",
      "42            London   2.954130e+07\n",
      "43       Los Angeles   1.281218e+07\n",
      "44          New York   4.307335e+07\n",
      "45       Los Angeles   9.016003e+06\n",
      "46             Tokyo   7.606288e+07\n",
      "47           Toronto   4.802288e+07\n",
      "48             Paris   2.137900e+07\n",
      "49             Tokyo   1.262986e+07\n",
      "50       Los Angeles   5.360627e+07\n",
      "51             Paris   6.789908e+07\n",
      "52            Sydney   4.763700e+07\n",
      "53            Sydney   7.047465e+07\n",
      "54           Toronto   6.101155e+07\n",
      "55             Paris   5.427362e+06\n",
      "56             Tokyo   6.504917e+07\n",
      "57       Los Angeles   5.215293e+07\n",
      "58            London   8.272745e+07\n",
      "59             Tokyo   4.763700e+07\n",
      "60          New York   1.659002e+07\n"
     ]
    }
   ],
   "source": [
    "from rdatapp import MissingValueHandler\n",
    "\n",
    "# Index 52 is missing in the 'Budget in USD' column \n",
    "df = MissingValueHandler.impute_mean(df, 'Budget in USD')\n",
    "print(df['Budget in USD'].head())\n",
    "filtered_df = df.loc[40:60, ['Shooting Location', 'Budget in USD']]\n",
    "print(filtered_df)"
   ]
  },
  {
   "cell_type": "markdown",
   "metadata": {},
   "source": [
    "### Encoding\n"
   ]
  },
  {
   "cell_type": "code",
   "execution_count": 146,
   "metadata": {},
   "outputs": [
    {
     "name": "stdout",
     "output_type": "stream",
     "text": [
      "   Genre_Action  Genre_Adventure  Genre_Animation  Genre_Comedy  Genre_Crime  \\\n",
      "0           0.0              0.0              0.0           0.0          0.0   \n",
      "1           0.0              0.0              0.0           0.0          0.0   \n",
      "2           0.0              1.0              0.0           0.0          0.0   \n",
      "3           0.0              0.0              0.0           0.0          0.0   \n",
      "4           0.0              0.0              0.0           0.0          0.0   \n",
      "\n",
      "   Genre_Documentary  Genre_Drama  Genre_Family  Genre_Fantasy  Genre_Foreign  \\\n",
      "0                0.0          0.0           0.0            0.0            0.0   \n",
      "1                1.0          0.0           0.0            0.0            0.0   \n",
      "2                0.0          0.0           0.0            0.0            0.0   \n",
      "3                0.0          0.0           0.0            1.0            0.0   \n",
      "4                0.0          0.0           0.0            1.0            0.0   \n",
      "\n",
      "   Genre_History  Genre_Horror  Genre_Musical  Genre_Mystery  Genre_Romance  \\\n",
      "0            0.0           1.0            0.0            0.0            0.0   \n",
      "1            0.0           0.0            0.0            0.0            0.0   \n",
      "2            0.0           0.0            0.0            0.0            0.0   \n",
      "3            0.0           0.0            0.0            0.0            0.0   \n",
      "4            0.0           0.0            0.0            0.0            0.0   \n",
      "\n",
      "   Genre_Science Fiction  Genre_Sports  Genre_Thriller  Genre_War  \\\n",
      "0                    0.0           0.0             0.0        0.0   \n",
      "1                    0.0           0.0             0.0        0.0   \n",
      "2                    0.0           0.0             0.0        0.0   \n",
      "3                    0.0           0.0             0.0        0.0   \n",
      "4                    0.0           0.0             0.0        0.0   \n",
      "\n",
      "   Genre_Western  \n",
      "0            0.0  \n",
      "1            0.0  \n",
      "2            0.0  \n",
      "3            0.0  \n",
      "4            0.0  \n"
     ]
    }
   ],
   "source": [
    "from rdatapp import CategoricalEncoder\n",
    "\n",
    "# One-hot encode the 'Genre' column\n",
    "df = CategoricalEncoder.one_hot_encode(df, 'Genre')\n",
    "encoded_df = df.filter(regex='Genre')\n",
    "print(encoded_df.head())\n"
   ]
  },
  {
   "cell_type": "markdown",
   "metadata": {},
   "source": [
    "### Outlier Detection"
   ]
  },
  {
   "cell_type": "code",
   "execution_count": 147,
   "metadata": {},
   "outputs": [
    {
     "name": "stdout",
     "output_type": "stream",
     "text": [
      "count    1000.000000\n",
      "mean        8.051919\n",
      "std         1.768733\n",
      "min         3.023367\n",
      "25%         7.470223\n",
      "50%         8.646978\n",
      "75%         9.283838\n",
      "max         9.985402\n",
      "Name: Rating, dtype: float64\n",
      "count    913.000000\n",
      "mean       8.454158\n",
      "std        1.240696\n",
      "min        4.771495\n",
      "25%        7.900184\n",
      "50%        8.772862\n",
      "75%        9.357609\n",
      "max        9.985402\n",
      "Name: Rating, dtype: float64\n"
     ]
    }
   ],
   "source": [
    "from rdatapp import OutlierHandler\n",
    "\n",
    "# Detecting and removing outliers in the \"Rating\" column using the IQR method\n",
    "print(df['Rating'].describe())\n",
    "df = OutlierHandler.iqr_outlier_detection(df, 'Rating')\n",
    "print(df['Rating'].describe())\n"
   ]
  },
  {
   "cell_type": "markdown",
   "metadata": {},
   "source": [
    "### Scaling"
   ]
  },
  {
   "cell_type": "code",
   "execution_count": 148,
   "metadata": {},
   "outputs": [
    {
     "name": "stdout",
     "output_type": "stream",
     "text": [
      "     Rating\n",
      "0  0.954885\n",
      "1  0.602500\n",
      "3  0.774906\n",
      "4  0.091965\n",
      "5  0.748976\n"
     ]
    }
   ],
   "source": [
    "from rdatapp import Scaler\n",
    "\n",
    "# Min-Max scaling the \"Rating\" column\n",
    "df = Scaler.min_max_scale(df, 'Rating')\n",
    "print(df[['Rating']].head())"
   ]
  },
  {
   "cell_type": "markdown",
   "metadata": {},
   "source": [
    "### Feature Engineering"
   ]
  },
  {
   "cell_type": "code",
   "execution_count": 149,
   "metadata": {},
   "outputs": [
    {
     "name": "stdout",
     "output_type": "stream",
     "text": [
      "   Budget in USD  Budget in USD_new\n",
      "0   1.035408e+07          10.354075\n",
      "1   5.722105e+06           5.722105\n",
      "3   4.422451e+06           4.422451\n",
      "4   1.163290e+08         116.328972\n",
      "5   2.406163e+07          24.061629\n"
     ]
    }
   ],
   "source": [
    "from rdatapp.feature_engineer import FeatureEngineer\n",
    "\n",
    "# Create a new feature 'Budget in USD_new' by dividing the 'Budget in USD' column by 1e6\n",
    "df = FeatureEngineer.create_new_feature(df, 'Budget in USD', lambda x: x / 1e6)\n",
    "print(df[['Budget in USD', 'Budget in USD_new']].head())\n"
   ]
  },
  {
   "cell_type": "markdown",
   "metadata": {},
   "source": [
    "### Date-Time Handling"
   ]
  },
  {
   "cell_type": "code",
   "execution_count": 150,
   "metadata": {},
   "outputs": [
    {
     "name": "stdout",
     "output_type": "stream",
     "text": [
      "  Release Date  Release Date_year  Release Date_month  Release Date_day\n",
      "0   1985-07-07             1985.0                 7.0               7.0\n",
      "1   1999-05-08             1999.0                 5.0               8.0\n",
      "3          NaT                NaN                 NaN               NaN\n",
      "4          NaT                NaN                 NaN               NaN\n",
      "5   2013-04-06             2013.0                 4.0               6.0\n"
     ]
    }
   ],
   "source": [
    "from rdatapp import DateTimeHandler\n",
    "\n",
    "# Convert the \"Release Date\" column to datetime format\n",
    "df = DateTimeHandler.to_datetime(df, 'Release Date')\n",
    "\n",
    "# Extract the year, month, and day from the \"Release Date\" column\n",
    "df = DateTimeHandler.extract_date_parts(df, 'Release Date')\n",
    "print(df[['Release Date', 'Release Date_year', 'Release Date_month', 'Release Date_day']].head())\n"
   ]
  }
 ],
 "metadata": {
  "kernelspec": {
   "display_name": "base",
   "language": "python",
   "name": "python3"
  },
  "language_info": {
   "codemirror_mode": {
    "name": "ipython",
    "version": 3
   },
   "file_extension": ".py",
   "mimetype": "text/x-python",
   "name": "python",
   "nbconvert_exporter": "python",
   "pygments_lexer": "ipython3",
   "version": "3.11.5"
  }
 },
 "nbformat": 4,
 "nbformat_minor": 2
}
